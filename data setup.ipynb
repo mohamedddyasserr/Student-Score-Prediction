{
 "cells": [
  {
   "cell_type": "code",
   "execution_count": null,
   "id": "initial_id",
   "metadata": {
    "collapsed": true
   },
   "outputs": [],
   "source": []
  },
  {
   "cell_type": "code",
   "outputs": [],
   "source": [
    "import kagglehub\n",
    "import shutil\n",
    "import os\n",
    "\n",
    "# Download the dataset from KaggleHub\n",
    "source_path = kagglehub.dataset_download(\"lainguyn123/student-performance-factors\")\n",
    "\n",
    "# Define target directory\n",
    "raw_dir = \"data\\raw\"\n",
    "\n",
    "# Create target directory if it doesn't exist\n",
    "os.makedirs(raw_dir, exist_ok=True)\n",
    "\n",
    "# Loop through items in the source directory\n",
    "for item in os.listdir(source_path):\n",
    "    source_item = os.path.join(source_path, item)\n",
    "    target_item = os.path.join(raw_dir, item)\n",
    "    \n",
    "    if os.path.isdir(source_item):\n",
    "        # Copy directory (and overwrite if exists)\n",
    "        if os.path.exists(target_item):\n",
    "            shutil.rmtree(target_item)\n",
    "        shutil.copytree(source_item, target_item)\n",
    "    else:\n",
    "        # Copy file\n",
    "        shutil.copy2(source_item, target_item)\n",
    "\n",
    "print(f\"✅ All dataset contents copied to: {raw_dir}\")\n"
   ],
   "metadata": {
    "collapsed": false
   },
   "id": "8d871c6e68178336"
  }
 ],
 "metadata": {
  "kernelspec": {
   "display_name": "Python 3",
   "language": "python",
   "name": "python3"
  },
  "language_info": {
   "codemirror_mode": {
    "name": "ipython",
    "version": 2
   },
   "file_extension": ".py",
   "mimetype": "text/x-python",
   "name": "python",
   "nbconvert_exporter": "python",
   "pygments_lexer": "ipython2",
   "version": "2.7.6"
  }
 },
 "nbformat": 4,
 "nbformat_minor": 5
}

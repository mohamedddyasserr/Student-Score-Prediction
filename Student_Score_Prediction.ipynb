{
 "cells": [
  {
   "cell_type": "markdown",
   "source": [
    "DATA SETUP"
   ],
   "metadata": {
    "collapsed": false
   },
   "id": "da48a270f4cabbb2"
  },
  {
   "cell_type": "code",
   "outputs": [
    {
     "name": "stdout",
     "output_type": "stream",
     "text": [
      "✅ All dataset contents copied to: data\\raw\n",
      "Files in raw_dir: ['StudentPerformanceFactors.csv']\n"
     ]
    }
   ],
   "source": [
    "import kagglehub\n",
    "import shutil\n",
    "import os\n",
    "\n",
    "# Download the dataset from KaggleHub\n",
    "source_path = kagglehub.dataset_download(\"lainguyn123/student-performance-factors\")\n",
    "\n",
    "# Define target directory\n",
    "raw_dir = os.path.join(\"data\", \"raw\")\n",
    "\n",
    "# Create target directory if it doesn't exist\n",
    "os.makedirs(raw_dir, exist_ok=True)\n",
    "\n",
    "# Loop through items in the source directory\n",
    "for item in os.listdir(source_path):\n",
    "    source_item = os.path.join(source_path, item)\n",
    "    target_item = os.path.join(raw_dir, item)\n",
    "    \n",
    "    if os.path.isdir(source_item):\n",
    "        # Copy directory (and overwrite if exists)\n",
    "        if os.path.exists(target_item):\n",
    "            shutil.rmtree(target_item)\n",
    "        shutil.copytree(source_item, target_item)\n",
    "    else:\n",
    "        # Copy file\n",
    "        shutil.copy2(source_item, target_item)\n",
    "\n",
    "print(f\"✅ All dataset contents copied to: {raw_dir}\")\n",
    "print(\"Files in raw_dir:\", os.listdir(raw_dir))\n",
    "\n"
   ],
   "metadata": {
    "collapsed": false,
    "ExecuteTime": {
     "end_time": "2025-08-11T13:35:28.935582400Z",
     "start_time": "2025-08-11T13:35:27.533093600Z"
    }
   },
   "id": "8d871c6e68178336",
   "execution_count": 90
  },
  {
   "cell_type": "code",
   "outputs": [
    {
     "name": "stdout",
     "output_type": "stream",
     "text": [
      "CSV path: data\\raw\\StudentPerformanceFactors.csv\n",
      "Exists?: True\n",
      "\n",
      "Shape: (6607, 20)\n",
      "\n",
      "Columns: ['Hours_Studied', 'Attendance', 'Parental_Involvement', 'Access_to_Resources', 'Extracurricular_Activities', 'Sleep_Hours', 'Previous_Scores', 'Motivation_Level', 'Internet_Access', 'Tutoring_Sessions', 'Family_Income', 'Teacher_Quality', 'School_Type', 'Peer_Influence', 'Physical_Activity', 'Learning_Disabilities', 'Parental_Education_Level', 'Distance_from_Home', 'Gender', 'Exam_Score']\n"
     ]
    },
    {
     "data": {
      "text/plain": "   Hours_Studied  Attendance Parental_Involvement Access_to_Resources  \\\n0             23          84                  Low                High   \n1             19          64                  Low              Medium   \n2             24          98               Medium              Medium   \n3             29          89                  Low              Medium   \n4             19          92               Medium              Medium   \n5             19          88               Medium              Medium   \n6             29          84               Medium                 Low   \n7             25          78                  Low                High   \n8             17          94               Medium                High   \n9             23          98               Medium              Medium   \n\n  Extracurricular_Activities  Sleep_Hours  Previous_Scores Motivation_Level  \\\n0                         No            7               73              Low   \n1                         No            8               59              Low   \n2                        Yes            7               91           Medium   \n3                        Yes            8               98           Medium   \n4                        Yes            6               65           Medium   \n5                        Yes            8               89           Medium   \n6                        Yes            7               68              Low   \n7                        Yes            6               50           Medium   \n8                         No            6               80             High   \n9                        Yes            8               71           Medium   \n\n  Internet_Access  Tutoring_Sessions Family_Income Teacher_Quality  \\\n0             Yes                  0           Low          Medium   \n1             Yes                  2        Medium          Medium   \n2             Yes                  2        Medium          Medium   \n3             Yes                  1        Medium          Medium   \n4             Yes                  3        Medium            High   \n5             Yes                  3        Medium          Medium   \n6             Yes                  1           Low          Medium   \n7             Yes                  1          High            High   \n8             Yes                  0        Medium             Low   \n9             Yes                  0          High            High   \n\n  School_Type Peer_Influence  Physical_Activity Learning_Disabilities  \\\n0      Public       Positive                  3                    No   \n1      Public       Negative                  4                    No   \n2      Public        Neutral                  4                    No   \n3      Public       Negative                  4                    No   \n4      Public        Neutral                  4                    No   \n5      Public       Positive                  3                    No   \n6     Private        Neutral                  2                    No   \n7      Public       Negative                  2                    No   \n8     Private        Neutral                  1                    No   \n9      Public       Positive                  5                    No   \n\n  Parental_Education_Level Distance_from_Home  Gender  Exam_Score  \n0              High School               Near    Male          67  \n1                  College           Moderate  Female          61  \n2             Postgraduate               Near    Male          74  \n3              High School           Moderate    Male          71  \n4                  College               Near  Female          70  \n5             Postgraduate               Near    Male          71  \n6              High School           Moderate    Male          67  \n7              High School                Far    Male          66  \n8                  College               Near    Male          69  \n9              High School           Moderate    Male          72  ",
      "text/html": "<div>\n<style scoped>\n    .dataframe tbody tr th:only-of-type {\n        vertical-align: middle;\n    }\n\n    .dataframe tbody tr th {\n        vertical-align: top;\n    }\n\n    .dataframe thead th {\n        text-align: right;\n    }\n</style>\n<table border=\"1\" class=\"dataframe\">\n  <thead>\n    <tr style=\"text-align: right;\">\n      <th></th>\n      <th>Hours_Studied</th>\n      <th>Attendance</th>\n      <th>Parental_Involvement</th>\n      <th>Access_to_Resources</th>\n      <th>Extracurricular_Activities</th>\n      <th>Sleep_Hours</th>\n      <th>Previous_Scores</th>\n      <th>Motivation_Level</th>\n      <th>Internet_Access</th>\n      <th>Tutoring_Sessions</th>\n      <th>Family_Income</th>\n      <th>Teacher_Quality</th>\n      <th>School_Type</th>\n      <th>Peer_Influence</th>\n      <th>Physical_Activity</th>\n      <th>Learning_Disabilities</th>\n      <th>Parental_Education_Level</th>\n      <th>Distance_from_Home</th>\n      <th>Gender</th>\n      <th>Exam_Score</th>\n    </tr>\n  </thead>\n  <tbody>\n    <tr>\n      <th>0</th>\n      <td>23</td>\n      <td>84</td>\n      <td>Low</td>\n      <td>High</td>\n      <td>No</td>\n      <td>7</td>\n      <td>73</td>\n      <td>Low</td>\n      <td>Yes</td>\n      <td>0</td>\n      <td>Low</td>\n      <td>Medium</td>\n      <td>Public</td>\n      <td>Positive</td>\n      <td>3</td>\n      <td>No</td>\n      <td>High School</td>\n      <td>Near</td>\n      <td>Male</td>\n      <td>67</td>\n    </tr>\n    <tr>\n      <th>1</th>\n      <td>19</td>\n      <td>64</td>\n      <td>Low</td>\n      <td>Medium</td>\n      <td>No</td>\n      <td>8</td>\n      <td>59</td>\n      <td>Low</td>\n      <td>Yes</td>\n      <td>2</td>\n      <td>Medium</td>\n      <td>Medium</td>\n      <td>Public</td>\n      <td>Negative</td>\n      <td>4</td>\n      <td>No</td>\n      <td>College</td>\n      <td>Moderate</td>\n      <td>Female</td>\n      <td>61</td>\n    </tr>\n    <tr>\n      <th>2</th>\n      <td>24</td>\n      <td>98</td>\n      <td>Medium</td>\n      <td>Medium</td>\n      <td>Yes</td>\n      <td>7</td>\n      <td>91</td>\n      <td>Medium</td>\n      <td>Yes</td>\n      <td>2</td>\n      <td>Medium</td>\n      <td>Medium</td>\n      <td>Public</td>\n      <td>Neutral</td>\n      <td>4</td>\n      <td>No</td>\n      <td>Postgraduate</td>\n      <td>Near</td>\n      <td>Male</td>\n      <td>74</td>\n    </tr>\n    <tr>\n      <th>3</th>\n      <td>29</td>\n      <td>89</td>\n      <td>Low</td>\n      <td>Medium</td>\n      <td>Yes</td>\n      <td>8</td>\n      <td>98</td>\n      <td>Medium</td>\n      <td>Yes</td>\n      <td>1</td>\n      <td>Medium</td>\n      <td>Medium</td>\n      <td>Public</td>\n      <td>Negative</td>\n      <td>4</td>\n      <td>No</td>\n      <td>High School</td>\n      <td>Moderate</td>\n      <td>Male</td>\n      <td>71</td>\n    </tr>\n    <tr>\n      <th>4</th>\n      <td>19</td>\n      <td>92</td>\n      <td>Medium</td>\n      <td>Medium</td>\n      <td>Yes</td>\n      <td>6</td>\n      <td>65</td>\n      <td>Medium</td>\n      <td>Yes</td>\n      <td>3</td>\n      <td>Medium</td>\n      <td>High</td>\n      <td>Public</td>\n      <td>Neutral</td>\n      <td>4</td>\n      <td>No</td>\n      <td>College</td>\n      <td>Near</td>\n      <td>Female</td>\n      <td>70</td>\n    </tr>\n    <tr>\n      <th>5</th>\n      <td>19</td>\n      <td>88</td>\n      <td>Medium</td>\n      <td>Medium</td>\n      <td>Yes</td>\n      <td>8</td>\n      <td>89</td>\n      <td>Medium</td>\n      <td>Yes</td>\n      <td>3</td>\n      <td>Medium</td>\n      <td>Medium</td>\n      <td>Public</td>\n      <td>Positive</td>\n      <td>3</td>\n      <td>No</td>\n      <td>Postgraduate</td>\n      <td>Near</td>\n      <td>Male</td>\n      <td>71</td>\n    </tr>\n    <tr>\n      <th>6</th>\n      <td>29</td>\n      <td>84</td>\n      <td>Medium</td>\n      <td>Low</td>\n      <td>Yes</td>\n      <td>7</td>\n      <td>68</td>\n      <td>Low</td>\n      <td>Yes</td>\n      <td>1</td>\n      <td>Low</td>\n      <td>Medium</td>\n      <td>Private</td>\n      <td>Neutral</td>\n      <td>2</td>\n      <td>No</td>\n      <td>High School</td>\n      <td>Moderate</td>\n      <td>Male</td>\n      <td>67</td>\n    </tr>\n    <tr>\n      <th>7</th>\n      <td>25</td>\n      <td>78</td>\n      <td>Low</td>\n      <td>High</td>\n      <td>Yes</td>\n      <td>6</td>\n      <td>50</td>\n      <td>Medium</td>\n      <td>Yes</td>\n      <td>1</td>\n      <td>High</td>\n      <td>High</td>\n      <td>Public</td>\n      <td>Negative</td>\n      <td>2</td>\n      <td>No</td>\n      <td>High School</td>\n      <td>Far</td>\n      <td>Male</td>\n      <td>66</td>\n    </tr>\n    <tr>\n      <th>8</th>\n      <td>17</td>\n      <td>94</td>\n      <td>Medium</td>\n      <td>High</td>\n      <td>No</td>\n      <td>6</td>\n      <td>80</td>\n      <td>High</td>\n      <td>Yes</td>\n      <td>0</td>\n      <td>Medium</td>\n      <td>Low</td>\n      <td>Private</td>\n      <td>Neutral</td>\n      <td>1</td>\n      <td>No</td>\n      <td>College</td>\n      <td>Near</td>\n      <td>Male</td>\n      <td>69</td>\n    </tr>\n    <tr>\n      <th>9</th>\n      <td>23</td>\n      <td>98</td>\n      <td>Medium</td>\n      <td>Medium</td>\n      <td>Yes</td>\n      <td>8</td>\n      <td>71</td>\n      <td>Medium</td>\n      <td>Yes</td>\n      <td>0</td>\n      <td>High</td>\n      <td>High</td>\n      <td>Public</td>\n      <td>Positive</td>\n      <td>5</td>\n      <td>No</td>\n      <td>High School</td>\n      <td>Moderate</td>\n      <td>Male</td>\n      <td>72</td>\n    </tr>\n  </tbody>\n</table>\n</div>"
     },
     "metadata": {},
     "output_type": "display_data"
    }
   ],
   "source": [
    "# Step 1: load dataset and show basic info\n",
    "from pathlib import Path\n",
    "import pandas as pd\n",
    "\n",
    "raw_path = Path(\"data\") / \"raw\" / \"StudentPerformanceFactors.csv\"\n",
    "print(\"CSV path:\", raw_path)\n",
    "print(\"Exists?:\", raw_path.exists())\n",
    "\n",
    "df = pd.read_csv(raw_path)\n",
    "\n",
    "# quick checks\n",
    "print(\"\\nShape:\", df.shape)\n",
    "print(\"\\nColumns:\", df.columns.tolist())\n",
    "\n",
    "# show first 10 rows\n",
    "display(df.head(10))\n"
   ],
   "metadata": {
    "collapsed": false,
    "ExecuteTime": {
     "end_time": "2025-08-11T13:35:29.708575700Z",
     "start_time": "2025-08-11T13:35:28.922277600Z"
    }
   },
   "id": "2dd4fc066df54220",
   "execution_count": 91
  },
  {
   "cell_type": "code",
   "outputs": [
    {
     "name": "stdout",
     "output_type": "stream",
     "text": [
      "Data types:\n",
      " Hours_Studied                  int64\n",
      "Attendance                     int64\n",
      "Parental_Involvement          object\n",
      "Access_to_Resources           object\n",
      "Extracurricular_Activities    object\n",
      "Sleep_Hours                    int64\n",
      "Previous_Scores                int64\n",
      "Motivation_Level              object\n",
      "Internet_Access               object\n",
      "Tutoring_Sessions              int64\n",
      "Family_Income                 object\n",
      "Teacher_Quality               object\n",
      "School_Type                   object\n",
      "Peer_Influence                object\n",
      "Physical_Activity              int64\n",
      "Learning_Disabilities         object\n",
      "Parental_Education_Level      object\n",
      "Distance_from_Home            object\n",
      "Gender                        object\n",
      "Exam_Score                     int64\n",
      "dtype: object \n",
      "\n",
      "Missing values:\n",
      " Teacher_Quality             78\n",
      "Parental_Education_Level    90\n",
      "Distance_from_Home          67\n",
      "dtype: int64 \n",
      "Duplicate rows: 0\n"
     ]
    }
   ],
   "source": [
    "# Step 2: data types & missing values\n",
    "print(\"Data types:\\n\", df.dtypes, \"\\n\")\n",
    "\n",
    "# missing values\n",
    "missing = df.isnull().sum()\n",
    "print(\"Missing values:\\n\", missing[missing > 0], \"\\n\")\n",
    "\n",
    "# duplicates\n",
    "duplicates = df.duplicated().sum()\n",
    "print(f\"Duplicate rows: {duplicates}\")\n"
   ],
   "metadata": {
    "collapsed": false,
    "ExecuteTime": {
     "end_time": "2025-08-11T13:35:30.610030700Z",
     "start_time": "2025-08-11T13:35:29.697858600Z"
    }
   },
   "id": "83a820c2953f2fff",
   "execution_count": 92
  },
  {
   "cell_type": "code",
   "outputs": [
    {
     "name": "stdout",
     "output_type": "stream",
     "text": [
      "✅ Missing values after filling:\n",
      " 0\n"
     ]
    },
    {
     "name": "stderr",
     "output_type": "stream",
     "text": [
      "C:\\Users\\Mohamed Yasser\\AppData\\Local\\Temp\\ipykernel_13868\\1237854646.py:3: FutureWarning: A value is trying to be set on a copy of a DataFrame or Series through chained assignment using an inplace method.\n",
      "The behavior will change in pandas 3.0. This inplace method will never work because the intermediate object on which we are setting values always behaves as a copy.\n",
      "\n",
      "For example, when doing 'df[col].method(value, inplace=True)', try using 'df.method({col: value}, inplace=True)' or df[col] = df[col].method(value) instead, to perform the operation inplace on the original object.\n",
      "\n",
      "\n",
      "  df[col].fillna(df[col].mode()[0], inplace=True)\n"
     ]
    }
   ],
   "source": [
    "# Step 3: Handle missing values\n",
    "for col in ['Teacher_Quality', 'Parental_Education_Level', 'Distance_from_Home']:\n",
    "    df[col].fillna(df[col].mode()[0], inplace=True)\n",
    "\n",
    "print(\"✅ Missing values after filling:\\n\", df.isnull().sum().sum())\n"
   ],
   "metadata": {
    "collapsed": false,
    "ExecuteTime": {
     "end_time": "2025-08-11T13:35:30.676377200Z",
     "start_time": "2025-08-11T13:35:30.572372300Z"
    }
   },
   "id": "c3f03c14e081be09",
   "execution_count": 93
  },
  {
   "cell_type": "code",
   "outputs": [
    {
     "name": "stdout",
     "output_type": "stream",
     "text": [
      "Original shape: (6607, 20)\n",
      "Encoded shape: (6607, 28)\n"
     ]
    }
   ],
   "source": [
    "from sklearn.preprocessing import OneHotEncoder\n",
    "\n",
    "# Identify categorical columns\n",
    "cat_cols = df.select_dtypes(include=['object']).columns\n",
    "\n",
    "# One-hot encode\n",
    "df_encoded = pd.get_dummies(df, columns=cat_cols, drop_first=True)\n",
    "\n",
    "print(\"Original shape:\", df.shape)\n",
    "print(\"Encoded shape:\", df_encoded.shape)\n"
   ],
   "metadata": {
    "collapsed": false,
    "ExecuteTime": {
     "end_time": "2025-08-11T13:35:31.200710300Z",
     "start_time": "2025-08-11T13:35:30.722432900Z"
    }
   },
   "id": "be82e5a111f7c803",
   "execution_count": 94
  },
  {
   "cell_type": "code",
   "outputs": [
    {
     "data": {
      "text/plain": "((5285, 1), (1322, 1))"
     },
     "execution_count": 95,
     "metadata": {},
     "output_type": "execute_result"
    }
   ],
   "source": [
    "from sklearn.model_selection import (train_test_split)\n",
    "\n",
    "# Keep only the columns we need for simple linear regression\n",
    "df_simple = df[['Hours_Studied', 'Exam_Score']]\n",
    "\n",
    "# Features (X) and target (y)\n",
    "X = df_simple[['Hours_Studied']]\n",
    "y = df_simple['Exam_Score']\n",
    "\n",
    "# Split into 80% training and 20% testing\n",
    "X_train, X_test, y_train, y_test = train_test_split(X, y, test_size=0.2, random_state=42)\n",
    "\n",
    "# Check shapes\n",
    "X_train.shape, X_test.shape\n"
   ],
   "metadata": {
    "collapsed": false,
    "ExecuteTime": {
     "end_time": "2025-08-11T13:35:31.426747400Z",
     "start_time": "2025-08-11T13:35:31.194469500Z"
    }
   },
   "id": "cfc0395d88681b5a",
   "execution_count": 95
  },
  {
   "cell_type": "markdown",
   "source": [
    "Version 1: Model with One feature only (STUDIED HOURS)"
   ],
   "metadata": {
    "collapsed": false
   },
   "id": "11152d1c02e66e2f"
  },
  {
   "cell_type": "code",
   "outputs": [
    {
     "data": {
      "text/plain": "(array([0.28566874]), np.float64(61.511167469044246))"
     },
     "execution_count": 96,
     "metadata": {},
     "output_type": "execute_result"
    }
   ],
   "source": [
    "from sklearn.linear_model import LinearRegression\n",
    "\n",
    "# Create and train the model\n",
    "model = LinearRegression()\n",
    "model.fit(X_train, y_train)\n",
    "\n",
    "# Check model coefficients\n",
    "model.coef_, model.intercept_\n"
   ],
   "metadata": {
    "collapsed": false,
    "ExecuteTime": {
     "end_time": "2025-08-11T13:35:31.499322300Z",
     "start_time": "2025-08-11T13:35:31.432731600Z"
    }
   },
   "id": "a9899d98d26e3010",
   "execution_count": 96
  },
  {
   "cell_type": "code",
   "outputs": [
    {
     "data": {
      "text/plain": "(10.85592128879332, np.float64(3.294832513010839), 0.2319868674542106)"
     },
     "execution_count": 97,
     "metadata": {},
     "output_type": "execute_result"
    }
   ],
   "source": [
    "from sklearn.metrics import mean_squared_error, r2_score\n",
    "import numpy as np\n",
    "\n",
    "# Predict on test set\n",
    "y_pred = model.predict(X_test)\n",
    "\n",
    "# Evaluate\n",
    "mse = mean_squared_error(y_test, y_pred)\n",
    "rmse = np.sqrt(mse)\n",
    "r2 = r2_score(y_test, y_pred)\n",
    "\n",
    "mse, rmse, r2\n"
   ],
   "metadata": {
    "collapsed": false,
    "ExecuteTime": {
     "end_time": "2025-08-11T13:35:31.501317Z",
     "start_time": "2025-08-11T13:35:31.462593Z"
    }
   },
   "id": "5ad7c513c3f4caf",
   "execution_count": 97
  },
  {
   "cell_type": "code",
   "outputs": [
    {
     "data": {
      "text/plain": "<Figure size 640x480 with 1 Axes>",
      "image/png": "[encoded data removed]"
     },
     "metadata": {},
     "output_type": "display_data"
    }
   ],
   "source": [
    "import matplotlib.pyplot as plt\n",
    "\n",
    "# Scatter plot of actual test data\n",
    "plt.scatter(X_test, y_test, color='blue', label='Actual Data')\n",
    "\n",
    "# Regression line (predictions)\n",
    "plt.plot(X_test, y_pred, color='red', linewidth=2, label='Regression Line')\n",
    "\n",
    "# Labels and title\n",
    "plt.xlabel(\"Hours Studied\")\n",
    "plt.ylabel(\"Exam Score\")\n",
    "plt.title(\"Hours Studied vs Exam Score (Linear Regression)\")\n",
    "plt.legend()\n",
    "\n",
    "plt.show()\n"
   ],
   "metadata": {
    "collapsed": false,
    "ExecuteTime": {
     "end_time": "2025-08-11T13:35:31.684726300Z",
     "start_time": "2025-08-11T13:35:31.483731Z"
    }
   },
   "id": "8c918740da4da7fc",
   "execution_count": 98
  },
  {
   "cell_type": "markdown",
   "source": [
    "Version 2: Model with ALL FEATURES"
   ],
   "metadata": {
    "collapsed": false
   },
   "id": "fc7ca12a74b5f64b"
  },
  {
   "cell_type": "code",
   "outputs": [
    {
     "name": "stdout",
     "output_type": "stream",
     "text": [
      "Original shape: (6607, 20)\n"
     ]
    },
    {
     "data": {
      "text/plain": "   Hours_Studied  Attendance Parental_Involvement Access_to_Resources  \\\n0             23          84                  Low                High   \n1             19          64                  Low              Medium   \n2             24          98               Medium              Medium   \n3             29          89                  Low              Medium   \n4             19          92               Medium              Medium   \n\n  Extracurricular_Activities  Sleep_Hours  Previous_Scores Motivation_Level  \\\n0                         No            7               73              Low   \n1                         No            8               59              Low   \n2                        Yes            7               91           Medium   \n3                        Yes            8               98           Medium   \n4                        Yes            6               65           Medium   \n\n  Internet_Access  Tutoring_Sessions Family_Income Teacher_Quality  \\\n0             Yes                  0           Low          Medium   \n1             Yes                  2        Medium          Medium   \n2             Yes                  2        Medium          Medium   \n3             Yes                  1        Medium          Medium   \n4             Yes                  3        Medium            High   \n\n  School_Type Peer_Influence  Physical_Activity Learning_Disabilities  \\\n0      Public       Positive                  3                    No   \n1      Public       Negative                  4                    No   \n2      Public        Neutral                  4                    No   \n3      Public       Negative                  4                    No   \n4      Public        Neutral                  4                    No   \n\n  Parental_Education_Level Distance_from_Home  Gender  Exam_Score  \n0              High School               Near    Male          67  \n1                  College           Moderate  Female          61  \n2             Postgraduate               Near    Male          74  \n3              High School           Moderate    Male          71  \n4                  College               Near  Female          70  ",
      "text/html": "<div>\n<style scoped>\n    .dataframe tbody tr th:only-of-type {\n        vertical-align: middle;\n    }\n\n    .dataframe tbody tr th {\n        vertical-align: top;\n    }\n\n    .dataframe thead th {\n        text-align: right;\n    }\n</style>\n<table border=\"1\" class=\"dataframe\">\n  <thead>\n    <tr style=\"text-align: right;\">\n      <th></th>\n      <th>Hours_Studied</th>\n      <th>Attendance</th>\n      <th>Parental_Involvement</th>\n      <th>Access_to_Resources</th>\n      <th>Extracurricular_Activities</th>\n      <th>Sleep_Hours</th>\n      <th>Previous_Scores</th>\n      <th>Motivation_Level</th>\n      <th>Internet_Access</th>\n      <th>Tutoring_Sessions</th>\n      <th>Family_Income</th>\n      <th>Teacher_Quality</th>\n      <th>School_Type</th>\n      <th>Peer_Influence</th>\n      <th>Physical_Activity</th>\n      <th>Learning_Disabilities</th>\n      <th>Parental_Education_Level</th>\n      <th>Distance_from_Home</th>\n      <th>Gender</th>\n      <th>Exam_Score</th>\n    </tr>\n  </thead>\n  <tbody>\n    <tr>\n      <th>0</th>\n      <td>23</td>\n      <td>84</td>\n      <td>Low</td>\n      <td>High</td>\n      <td>No</td>\n      <td>7</td>\n      <td>73</td>\n      <td>Low</td>\n      <td>Yes</td>\n      <td>0</td>\n      <td>Low</td>\n      <td>Medium</td>\n      <td>Public</td>\n      <td>Positive</td>\n      <td>3</td>\n      <td>No</td>\n      <td>High School</td>\n      <td>Near</td>\n      <td>Male</td>\n      <td>67</td>\n    </tr>\n    <tr>\n      <th>1</th>\n      <td>19</td>\n      <td>64</td>\n      <td>Low</td>\n      <td>Medium</td>\n      <td>No</td>\n      <td>8</td>\n      <td>59</td>\n      <td>Low</td>\n      <td>Yes</td>\n      <td>2</td>\n      <td>Medium</td>\n      <td>Medium</td>\n      <td>Public</td>\n      <td>Negative</td>\n      <td>4</td>\n      <td>No</td>\n      <td>College</td>\n      <td>Moderate</td>\n      <td>Female</td>\n      <td>61</td>\n    </tr>\n    <tr>\n      <th>2</th>\n      <td>24</td>\n      <td>98</td>\n      <td>Medium</td>\n      <td>Medium</td>\n      <td>Yes</td>\n      <td>7</td>\n      <td>91</td>\n      <td>Medium</td>\n      <td>Yes</td>\n      <td>2</td>\n      <td>Medium</td>\n      <td>Medium</td>\n      <td>Public</td>\n      <td>Neutral</td>\n      <td>4</td>\n      <td>No</td>\n      <td>Postgraduate</td>\n      <td>Near</td>\n      <td>Male</td>\n      <td>74</td>\n    </tr>\n    <tr>\n      <th>3</th>\n      <td>29</td>\n      <td>89</td>\n      <td>Low</td>\n      <td>Medium</td>\n      <td>Yes</td>\n      <td>8</td>\n      <td>98</td>\n      <td>Medium</td>\n      <td>Yes</td>\n      <td>1</td>\n      <td>Medium</td>\n      <td>Medium</td>\n      <td>Public</td>\n      <td>Negative</td>\n      <td>4</td>\n      <td>No</td>\n      <td>High School</td>\n      <td>Moderate</td>\n      <td>Male</td>\n      <td>71</td>\n    </tr>\n    <tr>\n      <th>4</th>\n      <td>19</td>\n      <td>92</td>\n      <td>Medium</td>\n      <td>Medium</td>\n      <td>Yes</td>\n      <td>6</td>\n      <td>65</td>\n      <td>Medium</td>\n      <td>Yes</td>\n      <td>3</td>\n      <td>Medium</td>\n      <td>High</td>\n      <td>Public</td>\n      <td>Neutral</td>\n      <td>4</td>\n      <td>No</td>\n      <td>College</td>\n      <td>Near</td>\n      <td>Female</td>\n      <td>70</td>\n    </tr>\n  </tbody>\n</table>\n</div>"
     },
     "execution_count": 99,
     "metadata": {},
     "output_type": "execute_result"
    }
   ],
   "source": [
    "import pandas as pd\n",
    "\n",
    "# Load the dataset\n",
    "df = pd.read_csv(\"data/raw/StudentPerformanceFactors.csv\")\n",
    "\n",
    "print(\"Original shape:\", df.shape)\n",
    "df.head()\n"
   ],
   "metadata": {
    "collapsed": false,
    "ExecuteTime": {
     "end_time": "2025-08-11T13:35:31.793653700Z",
     "start_time": "2025-08-11T13:35:31.685921100Z"
    }
   },
   "id": "df25c1783ca1e087",
   "execution_count": 99
  },
  {
   "cell_type": "code",
   "outputs": [
    {
     "name": "stdout",
     "output_type": "stream",
     "text": [
      "Missing values after cleaning: 0\n"
     ]
    }
   ],
   "source": [
    "# Fill missing numeric values with median\n",
    "num_cols = df.select_dtypes(include=['number']).columns\n",
    "for col in num_cols:\n",
    "    df[col] = df[col].fillna(df[col].median())\n",
    "\n",
    "# Fill missing categorical values with mode\n",
    "cat_cols = df.select_dtypes(include=['object']).columns\n",
    "for col in cat_cols:\n",
    "    df[col] = df[col].fillna(df[col].mode()[0])\n",
    "\n",
    "print(\"Missing values after cleaning:\", df.isnull().sum().sum())\n"
   ],
   "metadata": {
    "collapsed": false,
    "ExecuteTime": {
     "end_time": "2025-08-11T13:35:31.903790Z",
     "start_time": "2025-08-11T13:35:31.744011900Z"
    }
   },
   "id": "b9253c039be43bc7",
   "execution_count": 100
  },
  {
   "cell_type": "code",
   "outputs": [
    {
     "name": "stdout",
     "output_type": "stream",
     "text": [
      "Encoded shape: (6607, 28)\n"
     ]
    },
    {
     "data": {
      "text/plain": "   Hours_Studied  Attendance  Sleep_Hours  Previous_Scores  Tutoring_Sessions  \\\n0             23          84            7               73                  0   \n1             19          64            8               59                  2   \n2             24          98            7               91                  2   \n3             29          89            8               98                  1   \n4             19          92            6               65                  3   \n\n   Physical_Activity  Exam_Score  Parental_Involvement_Low  \\\n0                  3          67                      True   \n1                  4          61                      True   \n2                  4          74                     False   \n3                  4          71                      True   \n4                  4          70                     False   \n\n   Parental_Involvement_Medium  Access_to_Resources_Low  ...  \\\n0                        False                    False  ...   \n1                        False                    False  ...   \n2                         True                    False  ...   \n3                        False                    False  ...   \n4                         True                    False  ...   \n\n   Teacher_Quality_Medium  School_Type_Public  Peer_Influence_Neutral  \\\n0                    True                True                   False   \n1                    True                True                   False   \n2                    True                True                    True   \n3                    True                True                   False   \n4                   False                True                    True   \n\n   Peer_Influence_Positive  Learning_Disabilities_Yes  \\\n0                     True                      False   \n1                    False                      False   \n2                    False                      False   \n3                    False                      False   \n4                    False                      False   \n\n   Parental_Education_Level_High School  \\\n0                                  True   \n1                                 False   \n2                                 False   \n3                                  True   \n4                                 False   \n\n   Parental_Education_Level_Postgraduate  Distance_from_Home_Moderate  \\\n0                                  False                        False   \n1                                  False                         True   \n2                                   True                        False   \n3                                  False                         True   \n4                                  False                        False   \n\n   Distance_from_Home_Near  Gender_Male  \n0                     True         True  \n1                    False        False  \n2                     True         True  \n3                    False         True  \n4                     True        False  \n\n[5 rows x 28 columns]",
      "text/html": "<div>\n<style scoped>\n    .dataframe tbody tr th:only-of-type {\n        vertical-align: middle;\n    }\n\n    .dataframe tbody tr th {\n        vertical-align: top;\n    }\n\n    .dataframe thead th {\n        text-align: right;\n    }\n</style>\n<table border=\"1\" class=\"dataframe\">\n  <thead>\n    <tr style=\"text-align: right;\">\n      <th></th>\n      <th>Hours_Studied</th>\n      <th>Attendance</th>\n      <th>Sleep_Hours</th>\n      <th>Previous_Scores</th>\n      <th>Tutoring_Sessions</th>\n      <th>Physical_Activity</th>\n      <th>Exam_Score</th>\n      <th>Parental_Involvement_Low</th>\n      <th>Parental_Involvement_Medium</th>\n      <th>Access_to_Resources_Low</th>\n      <th>...</th>\n      <th>Teacher_Quality_Medium</th>\n      <th>School_Type_Public</th>\n      <th>Peer_Influence_Neutral</th>\n      <th>Peer_Influence_Positive</th>\n      <th>Learning_Disabilities_Yes</th>\n      <th>Parental_Education_Level_High School</th>\n      <th>Parental_Education_Level_Postgraduate</th>\n      <th>Distance_from_Home_Moderate</th>\n      <th>Distance_from_Home_Near</th>\n      <th>Gender_Male</th>\n    </tr>\n  </thead>\n  <tbody>\n    <tr>\n      <th>0</th>\n      <td>23</td>\n      <td>84</td>\n      <td>7</td>\n      <td>73</td>\n      <td>0</td>\n      <td>3</td>\n      <td>67</td>\n      <td>True</td>\n      <td>False</td>\n      <td>False</td>\n      <td>...</td>\n      <td>True</td>\n      <td>True</td>\n      <td>False</td>\n      <td>True</td>\n      <td>False</td>\n      <td>True</td>\n      <td>False</td>\n      <td>False</td>\n      <td>True</td>\n      <td>True</td>\n    </tr>\n    <tr>\n      <th>1</th>\n      <td>19</td>\n      <td>64</td>\n      <td>8</td>\n      <td>59</td>\n      <td>2</td>\n      <td>4</td>\n      <td>61</td>\n      <td>True</td>\n      <td>False</td>\n      <td>False</td>\n      <td>...</td>\n      <td>True</td>\n      <td>True</td>\n      <td>False</td>\n      <td>False</td>\n      <td>False</td>\n      <td>False</td>\n      <td>False</td>\n      <td>True</td>\n      <td>False</td>\n      <td>False</td>\n    </tr>\n    <tr>\n      <th>2</th>\n      <td>24</td>\n      <td>98</td>\n      <td>7</td>\n      <td>91</td>\n      <td>2</td>\n      <td>4</td>\n      <td>74</td>\n      <td>False</td>\n      <td>True</td>\n      <td>False</td>\n      <td>...</td>\n      <td>True</td>\n      <td>True</td>\n      <td>True</td>\n      <td>False</td>\n      <td>False</td>\n      <td>False</td>\n      <td>True</td>\n      <td>False</td>\n      <td>True</td>\n      <td>True</td>\n    </tr>\n    <tr>\n      <th>3</th>\n      <td>29</td>\n      <td>89</td>\n      <td>8</td>\n      <td>98</td>\n      <td>1</td>\n      <td>4</td>\n      <td>71</td>\n      <td>True</td>\n      <td>False</td>\n      <td>False</td>\n      <td>...</td>\n      <td>True</td>\n      <td>True</td>\n      <td>False</td>\n      <td>False</td>\n      <td>False</td>\n      <td>True</td>\n      <td>False</td>\n      <td>True</td>\n      <td>False</td>\n      <td>True</td>\n    </tr>\n    <tr>\n      <th>4</th>\n      <td>19</td>\n      <td>92</td>\n      <td>6</td>\n      <td>65</td>\n      <td>3</td>\n      <td>4</td>\n      <td>70</td>\n      <td>False</td>\n      <td>True</td>\n      <td>False</td>\n      <td>...</td>\n      <td>False</td>\n      <td>True</td>\n      <td>True</td>\n      <td>False</td>\n      <td>False</td>\n      <td>False</td>\n      <td>False</td>\n      <td>False</td>\n      <td>True</td>\n      <td>False</td>\n    </tr>\n  </tbody>\n</table>\n<p>5 rows × 28 columns</p>\n</div>"
     },
     "execution_count": 101,
     "metadata": {},
     "output_type": "execute_result"
    }
   ],
   "source": [
    "df_encoded = pd.get_dummies(df, drop_first=True)\n",
    "print(\"Encoded shape:\", df_encoded.shape)\n",
    "df_encoded.head()\n"
   ],
   "metadata": {
    "collapsed": false,
    "ExecuteTime": {
     "end_time": "2025-08-11T13:35:31.974537400Z",
     "start_time": "2025-08-11T13:35:31.845869400Z"
    }
   },
   "id": "2ba2dfe39389155f",
   "execution_count": 101
  },
  {
   "cell_type": "code",
   "outputs": [
    {
     "name": "stdout",
     "output_type": "stream",
     "text": [
      "Training set shape: (5285, 27)\n",
      "Testing set shape: (1322, 27)\n"
     ]
    }
   ],
   "source": [
    "from sklearn.model_selection import train_test_split\n",
    "\n",
    "X = df_encoded.drop(\"Exam_Score\", axis=1)\n",
    "y = df_encoded[\"Exam_Score\"]\n",
    "\n",
    "X_train, X_test, y_train, y_test = train_test_split(\n",
    "    X, y, test_size=0.2, random_state=42\n",
    ")\n",
    "\n",
    "print(\"Training set shape:\", X_train.shape)\n",
    "print(\"Testing set shape:\", X_test.shape)\n"
   ],
   "metadata": {
    "collapsed": false,
    "ExecuteTime": {
     "end_time": "2025-08-11T13:35:31.975493500Z",
     "start_time": "2025-08-11T13:35:31.921800400Z"
    }
   },
   "id": "cd4e6bdf3315a909",
   "execution_count": 102
  },
  {
   "cell_type": "code",
   "outputs": [
    {
     "name": "stdout",
     "output_type": "stream",
     "text": [
      "R² Score: 0.7696495724907313\n",
      "MAE: 0.4523920089625963\n",
      "MSE: 3.2560199870428934\n"
     ]
    }
   ],
   "source": [
    "from sklearn.linear_model import LinearRegression\n",
    "import numpy as np\n",
    "\n",
    "model_v2 = LinearRegression()\n",
    "model_v2.fit(X_train, y_train)\n",
    "\n",
    "y_pred_v2 = model_v2.predict(X_test)\n",
    "\n",
    "r2_v2 = r2_score(y_test, y_pred_v2)\n",
    "mae_v2 = mean_absolute_error(y_test, y_pred_v2)\n",
    "mse_v2 = mean_squared_error(y_test, y_pred_v2)\n",
    "\n",
    "print(\"R² Score:\", r2_v2)\n",
    "print(\"MAE:\", mae_v2)\n",
    "print(\"MSE:\", mse_v2)\n"
   ],
   "metadata": {
    "collapsed": false,
    "ExecuteTime": {
     "end_time": "2025-08-11T13:35:32.376906100Z",
     "start_time": "2025-08-11T13:35:31.940892800Z"
    }
   },
   "id": "4c8e030b38f9d248",
   "execution_count": 103
  },
  {
   "cell_type": "code",
   "outputs": [
    {
     "data": {
      "text/plain": "<Figure size 800x600 with 1 Axes>",
      "image/png": "[encoded data removed]"
     },
     "metadata": {},
     "output_type": "display_data"
    }
   ],
   "source": [
    "import matplotlib.pyplot as plt\n",
    "import os\n",
    "os.makedirs(\"results\", exist_ok=True)\n",
    "\n",
    "\n",
    "plt.figure(figsize=(8, 6))\n",
    "plt.scatter(y_test, y_pred_v2, alpha=0.6)\n",
    "plt.xlabel(\"Actual Exam Scores\")\n",
    "plt.ylabel(\"Predicted Exam Scores\")\n",
    "plt.title(\"Version 2: All Features - Linear Regression\")\n",
    "plt.plot([y.min(), y.max()], [y.min(), y.max()], color='red', linewidth=2)\n",
    "plt.tight_layout()\n",
    "plt.savefig(\"results/model_v2_all_features.png\", dpi=300)\n",
    "plt.show()\n",
    "\n",
    "# Save results\n",
    "results_v2 = {\n",
    "    \"R2\": r2_v2,\n",
    "    \"MAE\": mae_v2,\n",
    "    \"MSE\": mse_v2\n",
    "}\n",
    "\n",
    "pd.DataFrame([results_v2]).to_csv(\"results/model_v2_all_features_metrics.csv\", index=False)\n"
   ],
   "metadata": {
    "collapsed": false,
    "ExecuteTime": {
     "end_time": "2025-08-11T13:35:33.246196500Z",
     "start_time": "2025-08-11T13:35:32.373835100Z"
    }
   },
   "id": "5063a01fec9b022f",
   "execution_count": 104
  },
  {
   "cell_type": "markdown",
   "source": [
    "## Comparison: Hours Studied Only vs. All Features\n",
    "\n",
    "When predicting students' **Exam Score**, we tested two modeling approaches:\n",
    "\n",
    "1. **Single Feature Model**  \n",
    "   - Feature used: `Hours_Studied` only  \n",
    "   - **R² Score:** ~0.23 (very low)  \n",
    "   - **MAE:** ~3–4 points (less accurate)  \n",
    "   - **Interpretation:** While study hours have some correlation with performance, they do not capture other important factors influencing exam results. This leads to a weak predictive power.\n",
    "\n",
    "2. **Multi-Feature Model (Version 2)**  \n",
    "   - Features used: **All available features** from the dataset  \n",
    "   - **R² Score:** ~0.77  \n",
    "   - **MAE:** ~0.45 points (highly accurate)  \n",
    "   - **Interpretation:** Incorporating multiple variables such as attendance, previous scores, tutoring sessions, and parental education level greatly improves the model's ability to explain variance in exam scores and make precise predictions.\n",
    "\n",
    "**Conclusion:**  \n",
    "Relying solely on `Hours_Studied` oversimplifies the problem and ignores many other relevant predictors. A multi-feature approach captures a broader range of influences on academic performance, resulting in much higher accuracy and more reliable predictions.\n"
   ],
   "metadata": {
    "collapsed": false
   },
   "id": "91b09957adb4ac80"
  }
 ],
 "metadata": {
  "kernelspec": {
   "display_name": "Python 3",
   "language": "python",
   "name": "python3"
  },
  "language_info": {
   "codemirror_mode": {
    "name": "ipython",
    "version": 2
   },
   "file_extension": ".py",
   "mimetype": "text/x-python",
   "name": "python",
   "nbconvert_exporter": "python",
   "pygments_lexer": "ipython2",
   "version": "2.7.6"
  }
 },
 "nbformat": 4,
 "nbformat_minor": 5
}

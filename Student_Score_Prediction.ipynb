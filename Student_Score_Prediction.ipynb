{
 "cells": [
  {
   "cell_type": "code",
   "execution_count": 16,
   "id": "initial_id",
   "metadata": {
    "collapsed": true,
    "ExecuteTime": {
     "end_time": "2025-08-10T13:49:19.759706600Z",
     "start_time": "2025-08-10T13:49:19.527174500Z"
    }
   },
   "outputs": [],
   "source": []
  },
  {
   "cell_type": "code",
   "outputs": [
    {
     "name": "stdout",
     "output_type": "stream",
     "text": [
      "✅ All dataset contents copied to: data\\raw\n",
      "Files in raw_dir: ['StudentPerformanceFactors.csv']\n"
     ]
    }
   ],
   "source": [
    "import kagglehub\n",
    "import shutil\n",
    "import os\n",
    "\n",
    "# Download the dataset from KaggleHub\n",
    "source_path = kagglehub.dataset_download(\"lainguyn123/student-performance-factors\")\n",
    "\n",
    "# Define target directory\n",
    "raw_dir = os.path.join(\"data\", \"raw\")\n",
    "\n",
    "# Create target directory if it doesn't exist\n",
    "os.makedirs(raw_dir, exist_ok=True)\n",
    "\n",
    "# Loop through items in the source directory\n",
    "for item in os.listdir(source_path):\n",
    "    source_item = os.path.join(source_path, item)\n",
    "    target_item = os.path.join(raw_dir, item)\n",
    "    \n",
    "    if os.path.isdir(source_item):\n",
    "        # Copy directory (and overwrite if exists)\n",
    "        if os.path.exists(target_item):\n",
    "            shutil.rmtree(target_item)\n",
    "        shutil.copytree(source_item, target_item)\n",
    "    else:\n",
    "        # Copy file\n",
    "        shutil.copy2(source_item, target_item)\n",
    "\n",
    "print(f\"✅ All dataset contents copied to: {raw_dir}\")\n",
    "print(\"Files in raw_dir:\", os.listdir(raw_dir))\n",
    "\n"
   ],
   "metadata": {
    "collapsed": false,
    "ExecuteTime": {
     "end_time": "2025-08-10T14:22:15.854237100Z",
     "start_time": "2025-08-10T14:22:13.874809400Z"
    }
   },
   "id": "8d871c6e68178336",
   "execution_count": 33
  },
  {
   "cell_type": "code",
   "outputs": [
    {
     "name": "stdout",
     "output_type": "stream",
     "text": [
      "CSV path: data\\raw\\StudentPerformanceFactors.csv\n",
      "Exists?: True\n",
      "\n",
      "Shape: (6607, 20)\n",
      "\n",
      "Columns: ['Hours_Studied', 'Attendance', 'Parental_Involvement', 'Access_to_Resources', 'Extracurricular_Activities', 'Sleep_Hours', 'Previous_Scores', 'Motivation_Level', 'Internet_Access', 'Tutoring_Sessions', 'Family_Income', 'Teacher_Quality', 'School_Type', 'Peer_Influence', 'Physical_Activity', 'Learning_Disabilities', 'Parental_Education_Level', 'Distance_from_Home', 'Gender', 'Exam_Score']\n"
     ]
    },
    {
     "data": {
      "text/plain": "   Hours_Studied  Attendance Parental_Involvement Access_to_Resources  \\\n0             23          84                  Low                High   \n1             19          64                  Low              Medium   \n2             24          98               Medium              Medium   \n3             29          89                  Low              Medium   \n4             19          92               Medium              Medium   \n5             19          88               Medium              Medium   \n6             29          84               Medium                 Low   \n7             25          78                  Low                High   \n8             17          94               Medium                High   \n9             23          98               Medium              Medium   \n\n  Extracurricular_Activities  Sleep_Hours  Previous_Scores Motivation_Level  \\\n0                         No            7               73              Low   \n1                         No            8               59              Low   \n2                        Yes            7               91           Medium   \n3                        Yes            8               98           Medium   \n4                        Yes            6               65           Medium   \n5                        Yes            8               89           Medium   \n6                        Yes            7               68              Low   \n7                        Yes            6               50           Medium   \n8                         No            6               80             High   \n9                        Yes            8               71           Medium   \n\n  Internet_Access  Tutoring_Sessions Family_Income Teacher_Quality  \\\n0             Yes                  0           Low          Medium   \n1             Yes                  2        Medium          Medium   \n2             Yes                  2        Medium          Medium   \n3             Yes                  1        Medium          Medium   \n4             Yes                  3        Medium            High   \n5             Yes                  3        Medium          Medium   \n6             Yes                  1           Low          Medium   \n7             Yes                  1          High            High   \n8             Yes                  0        Medium             Low   \n9             Yes                  0          High            High   \n\n  School_Type Peer_Influence  Physical_Activity Learning_Disabilities  \\\n0      Public       Positive                  3                    No   \n1      Public       Negative                  4                    No   \n2      Public        Neutral                  4                    No   \n3      Public       Negative                  4                    No   \n4      Public        Neutral                  4                    No   \n5      Public       Positive                  3                    No   \n6     Private        Neutral                  2                    No   \n7      Public       Negative                  2                    No   \n8     Private        Neutral                  1                    No   \n9      Public       Positive                  5                    No   \n\n  Parental_Education_Level Distance_from_Home  Gender  Exam_Score  \n0              High School               Near    Male          67  \n1                  College           Moderate  Female          61  \n2             Postgraduate               Near    Male          74  \n3              High School           Moderate    Male          71  \n4                  College               Near  Female          70  \n5             Postgraduate               Near    Male          71  \n6              High School           Moderate    Male          67  \n7              High School                Far    Male          66  \n8                  College               Near    Male          69  \n9              High School           Moderate    Male          72  ",
      "text/html": "<div>\n<style scoped>\n    .dataframe tbody tr th:only-of-type {\n        vertical-align: middle;\n    }\n\n    .dataframe tbody tr th {\n        vertical-align: top;\n    }\n\n    .dataframe thead th {\n        text-align: right;\n    }\n</style>\n<table border=\"1\" class=\"dataframe\">\n  <thead>\n    <tr style=\"text-align: right;\">\n      <th></th>\n      <th>Hours_Studied</th>\n      <th>Attendance</th>\n      <th>Parental_Involvement</th>\n      <th>Access_to_Resources</th>\n      <th>Extracurricular_Activities</th>\n      <th>Sleep_Hours</th>\n      <th>Previous_Scores</th>\n      <th>Motivation_Level</th>\n      <th>Internet_Access</th>\n      <th>Tutoring_Sessions</th>\n      <th>Family_Income</th>\n      <th>Teacher_Quality</th>\n      <th>School_Type</th>\n      <th>Peer_Influence</th>\n      <th>Physical_Activity</th>\n      <th>Learning_Disabilities</th>\n      <th>Parental_Education_Level</th>\n      <th>Distance_from_Home</th>\n      <th>Gender</th>\n      <th>Exam_Score</th>\n    </tr>\n  </thead>\n  <tbody>\n    <tr>\n      <th>0</th>\n      <td>23</td>\n      <td>84</td>\n      <td>Low</td>\n      <td>High</td>\n      <td>No</td>\n      <td>7</td>\n      <td>73</td>\n      <td>Low</td>\n      <td>Yes</td>\n      <td>0</td>\n      <td>Low</td>\n      <td>Medium</td>\n      <td>Public</td>\n      <td>Positive</td>\n      <td>3</td>\n      <td>No</td>\n      <td>High School</td>\n      <td>Near</td>\n      <td>Male</td>\n      <td>67</td>\n    </tr>\n    <tr>\n      <th>1</th>\n      <td>19</td>\n      <td>64</td>\n      <td>Low</td>\n      <td>Medium</td>\n      <td>No</td>\n      <td>8</td>\n      <td>59</td>\n      <td>Low</td>\n      <td>Yes</td>\n      <td>2</td>\n      <td>Medium</td>\n      <td>Medium</td>\n      <td>Public</td>\n      <td>Negative</td>\n      <td>4</td>\n      <td>No</td>\n      <td>College</td>\n      <td>Moderate</td>\n      <td>Female</td>\n      <td>61</td>\n    </tr>\n    <tr>\n      <th>2</th>\n      <td>24</td>\n      <td>98</td>\n      <td>Medium</td>\n      <td>Medium</td>\n      <td>Yes</td>\n      <td>7</td>\n      <td>91</td>\n      <td>Medium</td>\n      <td>Yes</td>\n      <td>2</td>\n      <td>Medium</td>\n      <td>Medium</td>\n      <td>Public</td>\n      <td>Neutral</td>\n      <td>4</td>\n      <td>No</td>\n      <td>Postgraduate</td>\n      <td>Near</td>\n      <td>Male</td>\n      <td>74</td>\n    </tr>\n    <tr>\n      <th>3</th>\n      <td>29</td>\n      <td>89</td>\n      <td>Low</td>\n      <td>Medium</td>\n      <td>Yes</td>\n      <td>8</td>\n      <td>98</td>\n      <td>Medium</td>\n      <td>Yes</td>\n      <td>1</td>\n      <td>Medium</td>\n      <td>Medium</td>\n      <td>Public</td>\n      <td>Negative</td>\n      <td>4</td>\n      <td>No</td>\n      <td>High School</td>\n      <td>Moderate</td>\n      <td>Male</td>\n      <td>71</td>\n    </tr>\n    <tr>\n      <th>4</th>\n      <td>19</td>\n      <td>92</td>\n      <td>Medium</td>\n      <td>Medium</td>\n      <td>Yes</td>\n      <td>6</td>\n      <td>65</td>\n      <td>Medium</td>\n      <td>Yes</td>\n      <td>3</td>\n      <td>Medium</td>\n      <td>High</td>\n      <td>Public</td>\n      <td>Neutral</td>\n      <td>4</td>\n      <td>No</td>\n      <td>College</td>\n      <td>Near</td>\n      <td>Female</td>\n      <td>70</td>\n    </tr>\n    <tr>\n      <th>5</th>\n      <td>19</td>\n      <td>88</td>\n      <td>Medium</td>\n      <td>Medium</td>\n      <td>Yes</td>\n      <td>8</td>\n      <td>89</td>\n      <td>Medium</td>\n      <td>Yes</td>\n      <td>3</td>\n      <td>Medium</td>\n      <td>Medium</td>\n      <td>Public</td>\n      <td>Positive</td>\n      <td>3</td>\n      <td>No</td>\n      <td>Postgraduate</td>\n      <td>Near</td>\n      <td>Male</td>\n      <td>71</td>\n    </tr>\n    <tr>\n      <th>6</th>\n      <td>29</td>\n      <td>84</td>\n      <td>Medium</td>\n      <td>Low</td>\n      <td>Yes</td>\n      <td>7</td>\n      <td>68</td>\n      <td>Low</td>\n      <td>Yes</td>\n      <td>1</td>\n      <td>Low</td>\n      <td>Medium</td>\n      <td>Private</td>\n      <td>Neutral</td>\n      <td>2</td>\n      <td>No</td>\n      <td>High School</td>\n      <td>Moderate</td>\n      <td>Male</td>\n      <td>67</td>\n    </tr>\n    <tr>\n      <th>7</th>\n      <td>25</td>\n      <td>78</td>\n      <td>Low</td>\n      <td>High</td>\n      <td>Yes</td>\n      <td>6</td>\n      <td>50</td>\n      <td>Medium</td>\n      <td>Yes</td>\n      <td>1</td>\n      <td>High</td>\n      <td>High</td>\n      <td>Public</td>\n      <td>Negative</td>\n      <td>2</td>\n      <td>No</td>\n      <td>High School</td>\n      <td>Far</td>\n      <td>Male</td>\n      <td>66</td>\n    </tr>\n    <tr>\n      <th>8</th>\n      <td>17</td>\n      <td>94</td>\n      <td>Medium</td>\n      <td>High</td>\n      <td>No</td>\n      <td>6</td>\n      <td>80</td>\n      <td>High</td>\n      <td>Yes</td>\n      <td>0</td>\n      <td>Medium</td>\n      <td>Low</td>\n      <td>Private</td>\n      <td>Neutral</td>\n      <td>1</td>\n      <td>No</td>\n      <td>College</td>\n      <td>Near</td>\n      <td>Male</td>\n      <td>69</td>\n    </tr>\n    <tr>\n      <th>9</th>\n      <td>23</td>\n      <td>98</td>\n      <td>Medium</td>\n      <td>Medium</td>\n      <td>Yes</td>\n      <td>8</td>\n      <td>71</td>\n      <td>Medium</td>\n      <td>Yes</td>\n      <td>0</td>\n      <td>High</td>\n      <td>High</td>\n      <td>Public</td>\n      <td>Positive</td>\n      <td>5</td>\n      <td>No</td>\n      <td>High School</td>\n      <td>Moderate</td>\n      <td>Male</td>\n      <td>72</td>\n    </tr>\n  </tbody>\n</table>\n</div>"
     },
     "metadata": {},
     "output_type": "display_data"
    }
   ],
   "source": [
    "# Step 1: load dataset and show basic info\n",
    "from pathlib import Path\n",
    "import pandas as pd\n",
    "\n",
    "raw_path = Path(\"data\") / \"raw\" / \"StudentPerformanceFactors.csv\"\n",
    "print(\"CSV path:\", raw_path)\n",
    "print(\"Exists?:\", raw_path.exists())\n",
    "\n",
    "df = pd.read_csv(raw_path)\n",
    "\n",
    "# quick checks\n",
    "print(\"\\nShape:\", df.shape)\n",
    "print(\"\\nColumns:\", df.columns.tolist())\n",
    "\n",
    "# show first 10 rows\n",
    "display(df.head(10))\n"
   ],
   "metadata": {
    "collapsed": false,
    "ExecuteTime": {
     "end_time": "2025-08-10T14:22:54.646068700Z",
     "start_time": "2025-08-10T14:22:54.408802900Z"
    }
   },
   "id": "2dd4fc066df54220",
   "execution_count": 34
  },
  {
   "cell_type": "code",
   "outputs": [
    {
     "name": "stdout",
     "output_type": "stream",
     "text": [
      "Data types:\n",
      " Hours_Studied                  int64\n",
      "Attendance                     int64\n",
      "Parental_Involvement          object\n",
      "Access_to_Resources           object\n",
      "Extracurricular_Activities    object\n",
      "Sleep_Hours                    int64\n",
      "Previous_Scores                int64\n",
      "Motivation_Level              object\n",
      "Internet_Access               object\n",
      "Tutoring_Sessions              int64\n",
      "Family_Income                 object\n",
      "Teacher_Quality               object\n",
      "School_Type                   object\n",
      "Peer_Influence                object\n",
      "Physical_Activity              int64\n",
      "Learning_Disabilities         object\n",
      "Parental_Education_Level      object\n",
      "Distance_from_Home            object\n",
      "Gender                        object\n",
      "Exam_Score                     int64\n",
      "dtype: object \n",
      "\n",
      "Missing values:\n",
      " Teacher_Quality             78\n",
      "Parental_Education_Level    90\n",
      "Distance_from_Home          67\n",
      "dtype: int64 \n",
      "\n",
      "Duplicate rows: 0\n"
     ]
    }
   ],
   "source": [
    "# Step 2: data types & missing values\n",
    "print(\"Data types:\\n\", df.dtypes, \"\\n\")\n",
    "\n",
    "# missing values\n",
    "missing = df.isnull().sum()\n",
    "print(\"Missing values:\\n\", missing[missing > 0], \"\\n\")\n",
    "\n",
    "# duplicates\n",
    "duplicates = df.duplicated().sum()\n",
    "print(f\"Duplicate rows: {duplicates}\")\n"
   ],
   "metadata": {
    "collapsed": false,
    "ExecuteTime": {
     "end_time": "2025-08-10T14:23:28.375113400Z",
     "start_time": "2025-08-10T14:23:28.288244700Z"
    }
   },
   "id": "83a820c2953f2fff",
   "execution_count": 35
  },
  {
   "cell_type": "code",
   "outputs": [
    {
     "name": "stdout",
     "output_type": "stream",
     "text": [
      "✅ Missing values after filling:\n",
      " 0\n"
     ]
    },
    {
     "name": "stderr",
     "output_type": "stream",
     "text": [
      "C:\\Users\\Mohamed Yasser\\AppData\\Local\\Temp\\ipykernel_13868\\1237854646.py:3: FutureWarning: A value is trying to be set on a copy of a DataFrame or Series through chained assignment using an inplace method.\n",
      "The behavior will change in pandas 3.0. This inplace method will never work because the intermediate object on which we are setting values always behaves as a copy.\n",
      "\n",
      "For example, when doing 'df[col].method(value, inplace=True)', try using 'df.method({col: value}, inplace=True)' or df[col] = df[col].method(value) instead, to perform the operation inplace on the original object.\n",
      "\n",
      "\n",
      "  df[col].fillna(df[col].mode()[0], inplace=True)\n"
     ]
    }
   ],
   "source": [
    "# Step 3: Handle missing values\n",
    "for col in ['Teacher_Quality', 'Parental_Education_Level', 'Distance_from_Home']:\n",
    "    df[col].fillna(df[col].mode()[0], inplace=True)\n",
    "\n",
    "print(\"✅ Missing values after filling:\\n\", df.isnull().sum().sum())\n"
   ],
   "metadata": {
    "collapsed": false,
    "ExecuteTime": {
     "end_time": "2025-08-10T14:24:08.164525800Z",
     "start_time": "2025-08-10T14:24:08.020543100Z"
    }
   },
   "id": "c3f03c14e081be09",
   "execution_count": 36
  },
  {
   "cell_type": "code",
   "outputs": [
    {
     "name": "stdout",
     "output_type": "stream",
     "text": [
      "Original shape: (6607, 20)\n",
      "Encoded shape: (6607, 28)\n"
     ]
    }
   ],
   "source": [
    "from sklearn.preprocessing import OneHotEncoder\n",
    "\n",
    "# Identify categorical columns\n",
    "cat_cols = df.select_dtypes(include=['object']).columns\n",
    "\n",
    "# One-hot encode\n",
    "df_encoded = pd.get_dummies(df, columns=cat_cols, drop_first=True)\n",
    "\n",
    "print(\"Original shape:\", df.shape)\n",
    "print(\"Encoded shape:\", df_encoded.shape)\n"
   ],
   "metadata": {
    "collapsed": false,
    "ExecuteTime": {
     "end_time": "2025-08-10T14:25:03.481347100Z",
     "start_time": "2025-08-10T14:25:01.077245100Z"
    }
   },
   "id": "be82e5a111f7c803",
   "execution_count": 37
  },
  {
   "cell_type": "code",
   "outputs": [
    {
     "name": "stdout",
     "output_type": "stream",
     "text": [
      "Training set shape: (5285, 27)\n",
      "Testing set shape: (1322, 27)\n"
     ]
    }
   ],
   "source": [
    "from sklearn.model_selection import train_test_split\n",
    "from sklearn.preprocessing import StandardScaler\n",
    "\n",
    "# Separate features (X) and target (y)\n",
    "X = df_encoded.drop('Exam_Score', axis=1)\n",
    "y = df_encoded['Exam_Score']\n",
    "\n",
    "# Split into training & testing sets (80% train, 20% test)\n",
    "X_train, X_test, y_train, y_test = train_test_split(X, y, test_size=0.2, random_state=42)\n",
    "\n",
    "# Scale features\n",
    "scaler = StandardScaler()\n",
    "X_train_scaled = scaler.fit_transform(X_train)\n",
    "X_test_scaled = scaler.transform(X_test)\n",
    "\n",
    "print(\"Training set shape:\", X_train_scaled.shape)\n",
    "print(\"Testing set shape:\", X_test_scaled.shape)\n"
   ],
   "metadata": {
    "collapsed": false,
    "ExecuteTime": {
     "end_time": "2025-08-10T14:25:55.148764600Z",
     "start_time": "2025-08-10T14:25:55.107118200Z"
    }
   },
   "id": "cfc0395d88681b5a",
   "execution_count": 38
  },
  {
   "cell_type": "code",
   "outputs": [
    {
     "name": "stdout",
     "output_type": "stream",
     "text": [
      "Top 5 correlated features:\n",
      " Attendance                               0.581072\n",
      "Hours_Studied                            0.445455\n",
      "Previous_Scores                          0.175079\n",
      "Tutoring_Sessions                        0.156525\n",
      "Parental_Education_Level_Postgraduate    0.093764\n",
      "Name: Exam_Score, dtype: float64\n",
      "\n",
      "Shape after feature selection: (6607, 6)\n"
     ]
    }
   ],
   "source": [
    "import pandas as pd\n",
    "\n",
    "# Load dataset\n",
    "df = pd.read_csv(r\"data\\raw\\StudentPerformanceFactors.csv\")\n",
    "\n",
    "# Encode categorical variables\n",
    "df_encoded = pd.get_dummies(df, drop_first=True)\n",
    "\n",
    "# Calculate correlations with target\n",
    "correlations = df_encoded.corr()['Exam_Score'].sort_values(ascending=False)\n",
    "\n",
    "# Show top 5 features (excluding target)\n",
    "top_features = correlations.drop('Exam_Score').head(5)\n",
    "print(\"Top 5 correlated features:\\n\", top_features)\n",
    "\n",
    "# Select only these features + target\n",
    "df_selected = df_encoded[list(top_features.index) + ['Exam_Score']]\n",
    "print(\"\\nShape after feature selection:\", df_selected.shape)\n"
   ],
   "metadata": {
    "collapsed": false,
    "ExecuteTime": {
     "end_time": "2025-08-10T14:38:44.019543100Z",
     "start_time": "2025-08-10T14:38:43.679199800Z"
    }
   },
   "id": "a9899d98d26e3010",
   "execution_count": 47
  },
  {
   "cell_type": "code",
   "outputs": [
    {
     "name": "stdout",
     "output_type": "stream",
     "text": [
      "R² Score: 0.6452038230058685\n",
      "MAE: 1.2540209559137612\n",
      "MSE: 5.01506967497517\n"
     ]
    },
    {
     "data": {
      "text/plain": "<Figure size 800x600 with 1 Axes>",
      "image/png": "[encoded data removed]"
     },
     "metadata": {},
     "output_type": "display_data"
    }
   ],
   "source": [
    "from sklearn.model_selection import train_test_split\n",
    "from sklearn.linear_model import LinearRegression\n",
    "from sklearn.metrics import r2_score, mean_absolute_error, mean_squared_error\n",
    "import matplotlib.pyplot as plt\n",
    "\n",
    "# Features & target\n",
    "X = df_selected.drop('Exam_Score', axis=1)\n",
    "y = df_selected['Exam_Score']\n",
    "\n",
    "# Split data\n",
    "X_train, X_test, y_train, y_test = train_test_split(X, y, test_size=0.2, random_state=42)\n",
    "\n",
    "# Train model\n",
    "model = LinearRegression()\n",
    "model.fit(X_train, y_train)\n",
    "\n",
    "# Predictions\n",
    "y_pred = model.predict(X_test)\n",
    "\n",
    "# Evaluation\n",
    "print(\"R² Score:\", r2_score(y_test, y_pred))\n",
    "print(\"MAE:\", mean_absolute_error(y_test, y_pred))\n",
    "print(\"MSE:\", mean_squared_error(y_test, y_pred))\n",
    "\n",
    "# Visualization\n",
    "plt.figure(figsize=(8,6))\n",
    "plt.scatter(y_test, y_pred, alpha=0.6)\n",
    "plt.plot([y.min(), y.max()], [y.min(), y.max()], 'r--')\n",
    "plt.xlabel(\"Actual Exam Score\")\n",
    "plt.ylabel(\"Predicted Exam Score\")\n",
    "plt.title(\"Actual vs Predicted Exam Scores\")\n",
    "plt.show()\n"
   ],
   "metadata": {
    "collapsed": false,
    "ExecuteTime": {
     "end_time": "2025-08-10T14:39:51.083456500Z",
     "start_time": "2025-08-10T14:39:49.065819300Z"
    }
   },
   "id": "5ad7c513c3f4caf",
   "execution_count": 48
  },
  {
   "cell_type": "code",
   "outputs": [],
   "source": [],
   "metadata": {
    "collapsed": false
   },
   "id": "609338317ebeb967"
  }
 ],
 "metadata": {
  "kernelspec": {
   "display_name": "Python 3",
   "language": "python",
   "name": "python3"
  },
  "language_info": {
   "codemirror_mode": {
    "name": "ipython",
    "version": 2
   },
   "file_extension": ".py",
   "mimetype": "text/x-python",
   "name": "python",
   "nbconvert_exporter": "python",
   "pygments_lexer": "ipython2",
   "version": "2.7.6"
  }
 },
 "nbformat": 4,
 "nbformat_minor": 5
}
